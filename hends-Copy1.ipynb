{
 "cells": [
  {
   "cell_type": "markdown",
   "metadata": {},
   "source": [
    "oz klingel project"
   ]
  },
  {
   "cell_type": "code",
   "execution_count": null,
   "metadata": {},
   "outputs": [],
   "source": [
    "\n",
    "import numpy as np\n",
    "import matplotlib.pyplot as plt\n",
    "from scipy.stats import norm\n",
    "import pandas as pd\n",
    "import seaborn as sns\n",
    "sns.set_palette('husl')\n",
    "%matplotlib inline\n",
    "\n",
    "\n"
   ]
  },
  {
   "cell_type": "code",
   "execution_count": null,
   "metadata": {},
   "outputs": [],
   "source": [
    "df1=pd.read_csv(r\"C:\\Users\\DELL\\Desktop\\my pro\\Person 1\\Sachar636771045591258071Spontan.csv\")\n",
    "df1['status']='Spontan'\n",
    "df1.shape"
   ]
  },
  {
   "cell_type": "code",
   "execution_count": null,
   "metadata": {},
   "outputs": [],
   "source": [
    "df11=pd.read_csv(r\"C:\\Users\\DELL\\Desktop\\my pro\\Person 1\\Sachar636771046527112972Sync.csv\")\n",
    "df11['status']='Sync'\n",
    "df111=pd.read_csv(r\"C:\\Users\\DELL\\Desktop\\my pro\\Person 1\\Sachar636771047408504303Alone.csv\")\n",
    "df111['status']='Alone'\n",
    "frames = [df1, df11, df111]\n",
    "result1 = pd.concat(frames)\n",
    "#result1['person']='sahar'\n",
    "result1.head(10)"
   ]
  },
  {
   "cell_type": "code",
   "execution_count": null,
   "metadata": {},
   "outputs": [],
   "source": [
    "sns.countplot(y=result1.status ,data=result1)\n",
    "plt.xlabel(\"Count of each Target class\")\n",
    "plt.ylabel(\"Target classes\")\n",
    "plt.show()\n"
   ]
  },
  {
   "cell_type": "code",
   "execution_count": null,
   "metadata": {},
   "outputs": [],
   "source": [
    "result1.shape"
   ]
  },
  {
   "cell_type": "code",
   "execution_count": null,
   "metadata": {},
   "outputs": [],
   "source": [
    "from sklearn.preprocessing import LabelEncoder\n",
    "labelencoder=LabelEncoder()\n",
    "for col in result1.columns:\n",
    "    result1[col] = labelencoder.fit_transform(result1[col])\n",
    " \n",
    "result1.head(20)"
   ]
  },
  {
   "cell_type": "code",
   "execution_count": null,
   "metadata": {},
   "outputs": [],
   "source": [
    "fig,ax = plt.subplots(nrows = 11, ncols=2, figsize=(16,20))\n",
    "row = 0\n",
    "col = 0\n",
    "for i in range(len(result1.columns) -1):\n",
    "    if col > 1:\n",
    "        row += 1\n",
    "        col = 0\n",
    "    axes = ax[row,col]\n",
    "    sns.boxplot(x = result1['status'], y = result1[result1.columns[i]],ax = axes)\n",
    "    col += 1\n",
    "plt.tight_layout()\n",
    "# plt.title(\"Individual Features by Class\")\n",
    "plt.show()"
   ]
  },
  {
   "cell_type": "code",
   "execution_count": null,
   "metadata": {},
   "outputs": [],
   "source": [
    "X = result1.iloc[:,2:21]  # all rows, all the features and no labels\n",
    "y = result1.iloc[:, 22]  # all rows, label only\n",
    "y.head()"
   ]
  },
  {
   "cell_type": "code",
   "execution_count": null,
   "metadata": {},
   "outputs": [],
   "source": [
    "from sklearn.preprocessing import StandardScaler\n",
    "scaler = StandardScaler()\n",
    "X=scaler.fit_transform(X)\n",
    "X"
   ]
  },
  {
   "cell_type": "markdown",
   "metadata": {},
   "source": [
    "# Default knn\n"
   ]
  },
  {
   "cell_type": "code",
   "execution_count": null,
   "metadata": {},
   "outputs": [],
   "source": [
    "from sklearn.neighbors import KNeighborsClassifier\n",
    "from sklearn.model_selection import train_test_split\n",
    "X_train, X_test, y_train, y_test = train_test_split(X,y,test_size=0.2,random_state=4)\n",
    "knn = KNeighborsClassifier(80)\n",
    "knn.fit(X_train,y_train)\n",
    "print(\"Train score before PCA\",knn.score(X_train,y_train),\"%\")\n",
    "print(\"Test score before PCA\",knn.score(X_test,y_test),\"%\")\n"
   ]
  },
  {
   "cell_type": "code",
   "execution_count": null,
   "metadata": {},
   "outputs": [],
   "source": []
  },
  {
   "cell_type": "code",
   "execution_count": null,
   "metadata": {},
   "outputs": [],
   "source": []
  },
  {
   "cell_type": "markdown",
   "metadata": {},
   "source": [
    "# GaussianNB"
   ]
  },
  {
   "cell_type": "code",
   "execution_count": null,
   "metadata": {},
   "outputs": [],
   "source": [
    "from sklearn.naive_bayes import GaussianNB\n",
    "model_naive = GaussianNB()\n",
    "model_naive.fit(X_train, y_train)\n",
    "y_prob = model_naive.predict_proba(X_test)[:,1] # This will give you positive class prediction probabilities  \n",
    "y_pred = np.where(y_prob > 0.5, 1, 0) # This will threshold the probabilities to give class predictions.\n",
    "model_naive.score(X_test, y_pred)"
   ]
  },
  {
   "cell_type": "code",
   "execution_count": null,
   "metadata": {},
   "outputs": [],
   "source": [
    "print(\"Number of mislabeled points from %d points : %d\"\n",
    "      % (X_test.shape[0],(y_test!= y_pred).sum()))"
   ]
  },
  {
   "cell_type": "code",
   "execution_count": null,
   "metadata": {},
   "outputs": [],
   "source": [
    "from sklearn.model_selection import cross_val_score\n",
    "scores = cross_val_score(model_naive, X, y, cv=10, scoring='accuracy')\n",
    "print(scores)\n"
   ]
  },
  {
   "cell_type": "code",
   "execution_count": null,
   "metadata": {},
   "outputs": [],
   "source": [
    "scores.mean()"
   ]
  },
  {
   "cell_type": "code",
   "execution_count": null,
   "metadata": {},
   "outputs": [],
   "source": [
    "confusion_matrix=metrics.confusion_matrix(y_test,y_pred)\n",
    "confusion_matrix\n"
   ]
  },
  {
   "cell_type": "markdown",
   "metadata": {},
   "source": [
    "# adaboost"
   ]
  },
  {
   "cell_type": "code",
   "execution_count": null,
   "metadata": {},
   "outputs": [],
   "source": [
    "from sklearn.ensemble import  AdaBoostClassifier\n",
    "from sklearn.tree import DecisionTreeClassifier\n",
    "ada = AdaBoostClassifier(DecisionTreeClassifier(max_depth=2),algorithm=\"SAMME\",n_estimators=5, learning_rate=0.8)\n",
    "ada.fit(X_train, y_train)\n",
    "y_pred=ada.predict(X_test)\n",
    "print(\"ADA:\",metrics.accuracy_score(y_test, y_pred))"
   ]
  },
  {
   "cell_type": "code",
   "execution_count": null,
   "metadata": {},
   "outputs": [],
   "source": []
  },
  {
   "cell_type": "code",
   "execution_count": null,
   "metadata": {},
   "outputs": [],
   "source": []
  },
  {
   "cell_type": "code",
   "execution_count": null,
   "metadata": {},
   "outputs": [],
   "source": []
  },
  {
   "cell_type": "code",
   "execution_count": null,
   "metadata": {},
   "outputs": [],
   "source": [
    "from sklearn.decomposition import PCA\n",
    "pca = PCA()\n",
    "pca.fit_transform(X)"
   ]
  },
  {
   "cell_type": "code",
   "execution_count": null,
   "metadata": {},
   "outputs": [],
   "source": [
    "covariance=pca.get_covariance()\n",
    "#covariance\n",
    "explained_variance=pca.explained_variance_\n",
    "explained_variance"
   ]
  },
  {
   "cell_type": "code",
   "execution_count": null,
   "metadata": {},
   "outputs": [],
   "source": [
    " "
   ]
  },
  {
   "cell_type": "code",
   "execution_count": null,
   "metadata": {},
   "outputs": [],
   "source": [
    "df1=pd.read_csv(r\"C:\\Users\\DELL\\Desktop\\my pro\\Person 1\\Sachar636771045591258071Spontan.csv\")\n",
    "df1['status']='Spontan'\n",
    "df11=pd.read_csv(r\"C:\\Users\\DELL\\Desktop\\my pro\\Person 1\\Sachar636771046527112972Sync.csv\")\n",
    "df11['status']='Sync'\n",
    "df111=pd.read_csv(r\"C:\\Users\\DELL\\Desktop\\my pro\\Person 1\\Sachar636771047408504303Alone.csv\")\n",
    "df111['status']='Alone'\n",
    "frames = [df1, df11, df111]\n",
    "result1 = pd.concat(frames)\n",
    "\n",
    "df2=pd.read_csv(r\"C:\\Users\\DELL\\Desktop\\my pro\\Person 2\\Shelly636759784020992272Spontan.csv\")\n",
    "df2['status']='Spontan'\n",
    "df22=pd.read_csv(r\"C:\\Users\\DELL\\Desktop\\my pro\\Person 2\\Shelly636759785254377607Alone.csv\")\n",
    "df22['status']='Alone'\n",
    "df222=pd.read_csv(r\"C:\\Users\\DELL\\Desktop\\my pro\\Person 2\\Shelly636759786470414550Sync.csv\")\n",
    "df222['status']='Sync'\n",
    "df2222=pd.read_csv(r\"C:\\Users\\DELL\\Desktop\\my pro\\Person 2\\Shelly636759787508979097Spontan.csv\")\n",
    "df2222['status']='Spontan'\n",
    "df22222=pd.read_csv(r\"C:\\Users\\DELL\\Desktop\\my pro\\Person 2\\Shelly636759788383205274Alone.csv\")\n",
    "df22222['status']='Alone'\n",
    "df222222=pd.read_csv(r\"C:\\Users\\DELL\\Desktop\\my pro\\Person 2\\Shelly636759789526313406Sync.csv\")\n",
    "df222222['status']='Sync'\n",
    "\n",
    "frames = [df2, df22, df222,df2222, df22222, df222222]\n",
    "result2 = pd.concat(frames)\n",
    "result2['person']='Shelly'\n",
    "\n",
    "df3=pd.read_csv(r\"C:\\Users\\DELL\\Desktop\\my pro\\Person 3\\Yael636771059544754823Spontan.csv\")\n",
    "df3['status']='Spontan'\n",
    "df33=pd.read_csv(r\"C:\\Users\\DELL\\Desktop\\my pro\\Person 3\\Yael636771060699529085Sync.csv\")\n",
    "df33['status']='Sync'\n",
    "df333=pd.read_csv(r\"C:\\Users\\DELL\\Desktop\\my pro\\Person 3\\Yael636771061659067649Alone.csv\")\n",
    "df333['status']='Alone'\n",
    "\n",
    "frames = [df3, df33, df333]\n",
    "result3 = pd.concat(frames)\n",
    "result3['person']='Yael'\n",
    "\n",
    "frames = [result1, result2, result3]\n",
    "result = pd.concat(frames)\n",
    "result.head()"
   ]
  },
  {
   "cell_type": "code",
   "execution_count": null,
   "metadata": {},
   "outputs": [],
   "source": []
  },
  {
   "cell_type": "code",
   "execution_count": null,
   "metadata": {},
   "outputs": [],
   "source": [
    "from sklearn.preprocessing import LabelEncoder\n",
    "labelencoder=LabelEncoder()\n",
    "for col in result.columns:\n",
    "    result[col] = labelencoder.fit_transform(result[col])\n",
    " \n",
    "result.head(20)"
   ]
  },
  {
   "cell_type": "code",
   "execution_count": null,
   "metadata": {},
   "outputs": [],
   "source": [
    "sns.countplot(y=result.status ,data=result)\n",
    "plt.xlabel(\"Count of each Target class\")\n",
    "plt.ylabel(\"Target classes\")\n",
    "plt.show()\n"
   ]
  },
  {
   "cell_type": "code",
   "execution_count": null,
   "metadata": {},
   "outputs": [],
   "source": [
    "fig,ax = plt.subplots(nrows = 11, ncols=2, figsize=(16,20))\n",
    "row = 0\n",
    "col = 0\n",
    "for i in range(len(result.columns) -2):\n",
    "    if col > 1:\n",
    "        row += 1\n",
    "        col = 0\n",
    "    axes = ax[row,col]\n",
    "    sns.boxplot(x = result['status'], y = result[result.columns[i]],ax = axes)\n",
    "    col += 1\n",
    "plt.tight_layout()\n",
    "# plt.title(\"Individual Features by Class\")\n",
    "plt.show()"
   ]
  },
  {
   "cell_type": "code",
   "execution_count": null,
   "metadata": {},
   "outputs": [],
   "source": [
    "X = result.iloc[:,2:21]  # all rows, all the features and no labels\n",
    "y = result.iloc[:, 22]  # all rows, label only\n",
    "X.head()"
   ]
  },
  {
   "cell_type": "code",
   "execution_count": null,
   "metadata": {},
   "outputs": [],
   "source": [
    "from sklearn.preprocessing import StandardScaler\n",
    "scaler = StandardScaler()\n",
    "X=scaler.fit_transform(X)\n",
    "X"
   ]
  },
  {
   "cell_type": "code",
   "execution_count": null,
   "metadata": {},
   "outputs": [],
   "source": [
    "from sklearn.neighbors import KNeighborsClassifier\n",
    "from sklearn.model_selection import train_test_split\n",
    "X_train, X_test, y_train, y_test = train_test_split(X,y,test_size=0.2,random_state=4)\n",
    "knn = KNeighborsClassifier(80)\n",
    "knn.fit(X_train,y_train)\n",
    "print(\"Train score before PCA\",knn.score(X_train,y_train),\"%\")\n",
    "print(\"Test score before PCA\",knn.score(X_test,y_test),\"%\")\n"
   ]
  },
  {
   "cell_type": "code",
   "execution_count": null,
   "metadata": {},
   "outputs": [],
   "source": []
  },
  {
   "cell_type": "code",
   "execution_count": null,
   "metadata": {},
   "outputs": [],
   "source": []
  },
  {
   "cell_type": "markdown",
   "metadata": {},
   "source": [
    "#final=result.set_index(\" Frame ID\")\n",
    "r=result[result[\" # hands\"]==2]\n",
    "rr=result[result[\" # hands\"]==1]\n",
    "resr=r[r[\" Hand Type\"]==\"right\"]\n",
    "resl=r[r[\" Hand Type\"]==\"left\"]\n",
    "\n",
    "r=r.set_index(\" Frame ID\")\n",
    "r=pd.concat([resl,resr],keys=\" Frame ID\")\n",
    "\n",
    "for column in rr.columns :\n",
    "    rr[column]='null'\n",
    "r.append(rr, ignore_index=True)"
   ]
  },
  {
   "cell_type": "code",
   "execution_count": null,
   "metadata": {},
   "outputs": [],
   "source": []
  }
 ],
 "metadata": {
  "kernelspec": {
   "display_name": "Python 2",
   "language": "python",
   "name": "python2"
  },
  "language_info": {
   "codemirror_mode": {
    "name": "ipython",
    "version": 2
   },
   "file_extension": ".py",
   "mimetype": "text/x-python",
   "name": "python",
   "nbconvert_exporter": "python",
   "pygments_lexer": "ipython2",
   "version": "2.7.15"
  }
 },
 "nbformat": 4,
 "nbformat_minor": 2
}
